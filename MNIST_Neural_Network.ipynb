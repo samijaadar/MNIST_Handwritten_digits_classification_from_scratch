{
  "nbformat": 4,
  "nbformat_minor": 0,
  "metadata": {
    "colab": {
      "name": "Untitled0.ipynb",
      "provenance": [],
      "collapsed_sections": [],
      "mount_file_id": "1KpKIlOho3uh2HccQgjV73_Yjr7WZeDEN",
      "authorship_tag": "ABX9TyNlWM9JIYG9UMciTI6igYGM",
      "include_colab_link": true
    },
    "kernelspec": {
      "name": "python3",
      "display_name": "Python 3"
    },
    "language_info": {
      "name": "python"
    }
  },
  "cells": [
    {
      "cell_type": "markdown",
      "metadata": {
        "id": "view-in-github",
        "colab_type": "text"
      },
      "source": [
        "<a href=\"https://colab.research.google.com/github/samijaadar/MNIST_Handwritten_digits_classification_from_scratch/blob/main/MNIST_Neural_Network.ipynb\" target=\"_parent\"><img src=\"https://colab.research.google.com/assets/colab-badge.svg\" alt=\"Open In Colab\"/></a>"
      ]
    },
    {
      "cell_type": "code",
      "execution_count": 1,
      "metadata": {
        "id": "eaYlLYwl6r3G"
      },
      "outputs": [],
      "source": [
        "import numpy as np\n",
        "import pandas as pd\n",
        "import matplotlib.pyplot as plt"
      ]
    },
    {
      "cell_type": "code",
      "source": [
        "data  = pd.read_csv('/content/drive/MyDrive/digit-calssifier-train.csv')"
      ],
      "metadata": {
        "id": "p2MnQflJ6sPe"
      },
      "execution_count": 2,
      "outputs": []
    },
    {
      "cell_type": "code",
      "source": [
        "data = np.array(data)\n",
        "m , n = data.shape\n",
        "np.random.shuffle(data) # shuffle before splitting into test and training sets\n",
        "data.shape\n"
      ],
      "metadata": {
        "colab": {
          "base_uri": "https://localhost:8080/"
        },
        "id": "YIQI2HyU7OEz",
        "outputId": "d233588a-4404-4d9e-c61f-ef5de150f688"
      },
      "execution_count": 3,
      "outputs": [
        {
          "output_type": "execute_result",
          "data": {
            "text/plain": [
              "(42000, 785)"
            ]
          },
          "metadata": {},
          "execution_count": 3
        }
      ]
    },
    {
      "cell_type": "code",
      "source": [
        "train_data = data[1000:m].T\n",
        "Y_train = train_data[0]\n",
        "X_train = train_data[1:n]\n",
        "X_train = X_train / 255.\n",
        "\n",
        "train_data.shape"
      ],
      "metadata": {
        "id": "OE4baZD37mwP",
        "colab": {
          "base_uri": "https://localhost:8080/"
        },
        "outputId": "14db6577-693c-4a41-aaae-00fad882999f"
      },
      "execution_count": 4,
      "outputs": [
        {
          "output_type": "execute_result",
          "data": {
            "text/plain": [
              "(785, 41000)"
            ]
          },
          "metadata": {},
          "execution_count": 4
        }
      ]
    },
    {
      "cell_type": "code",
      "source": [
        "test_data = data[0:10000].T\n",
        "Y_test = test_data[0]\n",
        "X_test = test_data[1:n]\n",
        "X_test = X_test / 255.\n",
        "\n",
        "test_data.shape"
      ],
      "metadata": {
        "colab": {
          "base_uri": "https://localhost:8080/"
        },
        "id": "ZwXKACfoFN9m",
        "outputId": "444017fd-6ac3-48de-aab7-cb321d12ad24"
      },
      "execution_count": 5,
      "outputs": [
        {
          "output_type": "execute_result",
          "data": {
            "text/plain": [
              "(785, 10000)"
            ]
          },
          "metadata": {},
          "execution_count": 5
        }
      ]
    },
    {
      "cell_type": "code",
      "source": [
        "#nitialize the weights and biases\n",
        "def init_params():\n",
        "  W1 = np.random.rand(16, 784) - 0.5\n",
        "  b1 = np.random.rand(16, 1) - 0.5 \n",
        "\n",
        "  W2 = np.random.rand(10, 16) - 0.5\n",
        "  b2 = np.random.rand(10, 1) - 0.5\n",
        "\n",
        "  return W1 , b1, W2, b2 "
      ],
      "metadata": {
        "id": "qjzSWqul94QY"
      },
      "execution_count": 29,
      "outputs": []
    },
    {
      "cell_type": "code",
      "source": [
        "#defining ReLU (Rectified Linear Unit) activation function\n",
        "def ReLU(X):\n",
        "  return np.maximum(X, 0)"
      ],
      "metadata": {
        "id": "-kzYrVQtBxDU"
      },
      "execution_count": 7,
      "outputs": []
    },
    {
      "cell_type": "code",
      "source": [
        "#defining Softmax activation function\n",
        "def softmax(X):\n",
        "  A = np.exp(X) / sum(np.exp(X))\n",
        "  return A"
      ],
      "metadata": {
        "id": "Jq5_O5Y6CHzD"
      },
      "execution_count": 8,
      "outputs": []
    },
    {
      "cell_type": "code",
      "source": [
        "def forward_propag(W1, b1, W2, b2, X):\n",
        "  Z1 = W1.dot(X) + b1\n",
        "  A1 = ReLU(Z1)\n",
        "\n",
        "  Z2 = W2.dot(A1) + b2\n",
        "  A2 = softmax(Z2)\n",
        "\n",
        "  return Z1, A1, Z2, A2"
      ],
      "metadata": {
        "id": "_VFm4xowBgLl"
      },
      "execution_count": 9,
      "outputs": []
    },
    {
      "cell_type": "code",
      "source": [
        "#Encode number classes as a one-hot numeric array\n",
        "def one_hot(Y):\n",
        "  one_hot_Y = np.zeros((Y.size, Y.max() + 1))\n",
        "  one_hot_Y[np.arange(Y.size), Y] = 1\n",
        "  one_hot_Y = one_hot_Y.T\n",
        "  return one_hot_Y"
      ],
      "metadata": {
        "id": "JQGv40owxQkB"
      },
      "execution_count": 10,
      "outputs": []
    },
    {
      "cell_type": "code",
      "source": [
        "#define the derivative of ReLU\n",
        "def deriv_ReLU(Z):\n",
        "  return Z > 0"
      ],
      "metadata": {
        "id": "QPZ5FePz0kNY"
      },
      "execution_count": 11,
      "outputs": []
    },
    {
      "cell_type": "code",
      "source": [
        "def backward_propag(Z1, A1, Z2, A2, W2,X, Y):\n",
        "  one_hot_Y = one_hot(Y)\n",
        "  dZ2 = A2 - one_hot_Y\n",
        "  dW2 = 1/m * dZ2.dot(A1.T)\n",
        "  db2 =  1/m * np.sum(dZ2)\n",
        "  dZ1 = W2.T.dot(dZ2) * deriv_ReLU(Z1)\n",
        "  dW1 = 1/m * dZ1.dot(X.T)\n",
        "  db1 = 1/m * np.sum(dZ1)\n",
        "  return dW1, db1, dW2, db2"
      ],
      "metadata": {
        "id": "sV5w-YwyzEei"
      },
      "execution_count": 12,
      "outputs": []
    },
    {
      "cell_type": "code",
      "source": [
        "def update_param(W1, b1, W2, b2, dW1, db1, dW2, db2, alpha): \n",
        "  W1 = W1 - alpha * dW1\n",
        "  W2 = W2 - alpha  * dW2\n",
        "  b1 = b1 - alpha * db1\n",
        "  b2 = b2 - alpha * db2\n",
        "  return W1, b1, W2, b2"
      ],
      "metadata": {
        "id": "CFNozn0g92so"
      },
      "execution_count": 13,
      "outputs": []
    },
    {
      "cell_type": "code",
      "source": [
        "def get_predictions(A2): \n",
        "  return np.argmax(A2, 0)"
      ],
      "metadata": {
        "id": "O1GJe8P893k-"
      },
      "execution_count": 14,
      "outputs": []
    },
    {
      "cell_type": "code",
      "source": [
        "def get_accuracy(predictions, Y):\n",
        "  return np.sum(predictions == Y) / Y.size"
      ],
      "metadata": {
        "id": "mD61FHSY2_no"
      },
      "execution_count": 15,
      "outputs": []
    },
    {
      "cell_type": "code",
      "source": [
        "def grad_desc(X, Y, iteration, alpha):\n",
        "  W1, b1, W2, b2 = init_params()\n",
        "  for i in range(iteration):\n",
        "    Z1, A1, Z2, A2 = forward_propag(W1, b1, W2, b2, X)\n",
        "    dW1, db1, dW2, db2 = backward_propag(Z1, A1, Z2, A2, W2, X, Y)\n",
        "    W1, b1, W2, b2 = update_param(W1, b1, W2, b2, dW1, db1, dW2, db2, alpha)\n",
        "    if ( i % 50 == 0):\n",
        "      print(\"Iteration: \", i)\n",
        "      predictions = get_predictions(A2)\n",
        "      print(get_accuracy(predictions, Y))\n",
        "  return W1, b1, W2, b2"
      ],
      "metadata": {
        "id": "9fe8NpJG16b6"
      },
      "execution_count": 16,
      "outputs": []
    },
    {
      "cell_type": "code",
      "source": [
        "W1, b1, W2, b2 = grad_desc(X_train , Y_train , 600, 0.1)"
      ],
      "metadata": {
        "colab": {
          "base_uri": "https://localhost:8080/"
        },
        "id": "tUjqEgDj34tt",
        "outputId": "56892aa8-809f-411f-bde4-402375db82a3"
      },
      "execution_count": 30,
      "outputs": [
        {
          "output_type": "stream",
          "name": "stdout",
          "text": [
            "Iteration:  0\n",
            "0.10051219512195123\n",
            "Iteration:  50\n",
            "0.459\n",
            "Iteration:  100\n",
            "0.6654146341463415\n",
            "Iteration:  150\n",
            "0.7348780487804878\n",
            "Iteration:  200\n",
            "0.7743414634146342\n",
            "Iteration:  250\n",
            "0.7988536585365854\n",
            "Iteration:  300\n",
            "0.8170975609756097\n",
            "Iteration:  350\n",
            "0.8322682926829268\n",
            "Iteration:  400\n",
            "0.8452195121951219\n",
            "Iteration:  450\n",
            "0.8550975609756097\n",
            "Iteration:  500\n",
            "0.8622682926829268\n",
            "Iteration:  550\n",
            "0.8679512195121951\n"
          ]
        }
      ]
    },
    {
      "cell_type": "code",
      "source": [
        "def make_predictions(X, W1, b1, W2, b2):\n",
        "    _, _, _, A2 = forward_propag(W1, b1, W2, b2, X)\n",
        "    predictions = get_predictions(A2)\n",
        "    return predictions\n",
        "\n",
        "def test_prediction(index, W1, b1, W2, b2):\n",
        "    current_image = X_train[:, index, None]\n",
        "    prediction = make_predictions(X_train[:, index, None], W1, b1, W2, b2)\n",
        "    label = Y_train[index]\n",
        "    print(\"Prediction: \", prediction)\n",
        "    print(\"Label: \", label)\n",
        "    \n",
        "    current_image = current_image.reshape((28, 28)) * 255\n",
        "    plt.gray()\n",
        "    plt.imshow(current_image, interpolation='nearest')\n",
        "    plt.show()"
      ],
      "metadata": {
        "id": "elokFuYLEcEd"
      },
      "execution_count": 23,
      "outputs": []
    },
    {
      "cell_type": "code",
      "source": [
        "#test prediction on training set\n",
        "test_prediction(8 , W1, b1, W2, b2)"
      ],
      "metadata": {
        "colab": {
          "base_uri": "https://localhost:8080/",
          "height": 300
        },
        "id": "Jx99tYbcFpEU",
        "outputId": "9976673d-7a14-461e-f6cf-e2e56b25e2a5"
      },
      "execution_count": 31,
      "outputs": [
        {
          "output_type": "stream",
          "name": "stdout",
          "text": [
            "Prediction:  [3]\n",
            "Label:  3\n"
          ]
        },
        {
          "output_type": "display_data",
          "data": {
            "text/plain": [
              "<Figure size 432x288 with 1 Axes>"
            ],
            "image/png": "[encoded data removed]"
          },
          "metadata": {
            "needs_background": "light"
          }
        }
      ]
    },
    {
      "cell_type": "code",
      "source": [
        "#test prediction on test set\n",
        "test_predictions = make_predictions(X_test, W1, b1, W2, b2)\n",
        "get_accuracy(test_predictions, Y_test)"
      ],
      "metadata": {
        "colab": {
          "base_uri": "https://localhost:8080/"
        },
        "id": "IqBUuFXOGr1O",
        "outputId": "3829fcc8-cd29-43a4-9466-d4a02062f2a3"
      },
      "execution_count": 32,
      "outputs": [
        {
          "output_type": "execute_result",
          "data": {
            "text/plain": [
              "0.8756"
            ]
          },
          "metadata": {},
          "execution_count": 32
        }
      ]
    }
  ]
}